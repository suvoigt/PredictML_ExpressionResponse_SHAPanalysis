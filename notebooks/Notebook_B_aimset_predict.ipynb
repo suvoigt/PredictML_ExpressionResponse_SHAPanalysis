{
 "cells": [
  {
   "cell_type": "markdown",
   "metadata": {},
   "source": [
    "# Notebook B - Prediction on Aim Dataset"
   ]
  },
  {
   "cell_type": "code",
   "execution_count": 1,
   "metadata": {},
   "outputs": [],
   "source": [
    "import os\n",
    "import joblib\n",
    "\n",
    "import pandas as pd\n",
    "import matplotlib.pyplot as plt\n",
    "\n",
    "from sklearn.model_selection import *\n",
    "from sklearn.metrics import *"
   ]
  },
  {
   "cell_type": "code",
   "execution_count": 2,
   "metadata": {},
   "outputs": [],
   "source": [
    "# set working directory\n",
    "wdir = '/mnt/c/Users/ennas/Desktop/ML_genomics/Project1_PcG/'\n",
    "os.chdir(wdir)"
   ]
  },
  {
   "cell_type": "markdown",
   "metadata": {},
   "source": [
    "## 1. Get Data"
   ]
  },
  {
   "cell_type": "markdown",
   "metadata": {},
   "source": [
    "Data for the aimset to further test the model comes from an experiment that is highly similar to the ones from which the training set was derived. Specifically, two different inbred fly lines, Oregon-R (ORE) and Samarkand (SAM) for which gene expression was measured at two different rearing temperatures (13°C and 29°C) in whole female flies (aged 3 days, virgin) (*https://doi.org/10.1371/journal.pgen.1004883*)."
   ]
  },
  {
   "cell_type": "markdown",
   "metadata": {},
   "source": [
    "### 1.1 Sequence Data"
   ]
  },
  {
   "cell_type": "markdown",
   "metadata": {},
   "source": [
    "Sequence data for the the fly lines ORE and SAM was retrieved from the European Nucleotide Archive (ENA) at *https://www.ebi.ac.uk/ena/browser/view/*, under the accession number PRJEB46805 (*https://doi.org/10.1371/journal.pgen.1004883*, *https://doi.org/10.1093/gbe/evab239*)"
   ]
  },
  {
   "cell_type": "code",
   "execution_count": null,
   "metadata": {
    "vscode": {
     "languageId": "shellscript"
    }
   },
   "outputs": [],
   "source": [
    "%%bash \n",
    "\n",
    "# download sequence data\n",
    "\n",
    "#mkdir data/raw/seq_ORESAM\n",
    "cd data/raw/seq_ORESAM\n",
    "\n",
    "#Samarkand (S) parental (000) strain (R00_X):\n",
    "wget -nc ftp://ftp.sra.ebi.ac.uk/vol1/fastq/ERR647/007/ERR6474637/ERR6474637_2.fastq.gz \n",
    "wget -nc ftp://ftp.sra.ebi.ac.uk/vol1/fastq/ERR647/007/ERR6474637/ERR6474637_1.fastq.gz\n",
    "\n",
    "# Oregon-R (O) parental (000) strain (R00_X):\n",
    "wget -nc ftp://ftp.sra.ebi.ac.uk/vol1/fastq/ERR647/008/ERR6474638/ERR6474638_2.fastq.gz\n",
    "wget -nc ftp://ftp.sra.ebi.ac.uk/vol1/fastq/ERR647/008/ERR6474638/ERR6474638_1.fastq.gz\n"
   ]
  },
  {
   "cell_type": "markdown",
   "metadata": {},
   "source": [
    "\n",
    "Raw reads are trimmed using Trim Galore, then mapped to the *Drosophila melanogaster* reference genome (FlyBase Release 6.48, *https://doi.org/10.1093/genetics/iyac035*). This is followed by quality filtering with SAMtools. Duplicate removal and SNP calling are performed using GATK. Finally, a consensus sequence is constructed from the resulting .vcf files using BCFtools (using ***wgs_trim_map_snps_cns.sh.sh***):"
   ]
  },
  {
   "cell_type": "code",
   "execution_count": null,
   "metadata": {
    "vscode": {
     "languageId": "shellscript"
    }
   },
   "outputs": [],
   "source": [
    "%%bash \n",
    "\n",
    "# trim, map, quality-filter, call SNPs and make consensus fasta sequence for each sample:\n",
    "\n",
    "./scripts/wgs_trim_map_snps_cns.sh \\\n",
    "        -i data/raw/seq_ORESAM \\\n",
    "        -r data/meta/dmel-all-chromosome-r6.48.fasta \\\n",
    "        -t 6"
   ]
  },
  {
   "cell_type": "markdown",
   "metadata": {},
   "source": [
    "Sequence data for the regions surrounding each PcG target gene (+/-2.5kB) were extracted for all lines, and from this data, multiple sequence alignment FASTA files for each region are built (using ***get_fasta_per_gene.sh***):"
   ]
  },
  {
   "cell_type": "markdown",
   "metadata": {},
   "source": [
    "Raw motif scores of transcription factor binding sites are calculated using the R package PWMEnrich (*https://bioconductor.org/packages/release/bioc/html/PWMEnrich.html*) as implemented in the Rscript ***get_raw_motif_scores_pwmenrich.R***:"
   ]
  },
  {
   "cell_type": "code",
   "execution_count": null,
   "metadata": {
    "vscode": {
     "languageId": "shellscript"
    }
   },
   "outputs": [],
   "source": [
    "%%bash\n",
    "\n",
    "# get fasta files (ie, multiple-sequence alignments) for all PcG target regions \n",
    "\n",
    "./scripts/get_fasta_per_gene.sh \\\n",
    "                        -i data/raw/seq_ORESAM/SAM.fas -i data/raw/seq_ORESAM/ORE.fas \\\n",
    "                        -r data/meta/pcg_targets_regions.bed"
   ]
  },
  {
   "cell_type": "code",
   "execution_count": 23,
   "metadata": {},
   "outputs": [
    {
     "data": {
      "text/html": [
       "<div>\n",
       "<style scoped>\n",
       "    .dataframe tbody tr th:only-of-type {\n",
       "        vertical-align: middle;\n",
       "    }\n",
       "\n",
       "    .dataframe tbody tr th {\n",
       "        vertical-align: top;\n",
       "    }\n",
       "\n",
       "    .dataframe thead th {\n",
       "        text-align: right;\n",
       "    }\n",
       "</style>\n",
       "<table border=\"1\" class=\"dataframe\">\n",
       "  <thead>\n",
       "    <tr style=\"text-align: right;\">\n",
       "      <th></th>\n",
       "      <th>chrom</th>\n",
       "      <th>start</th>\n",
       "      <th>end</th>\n",
       "      <th>gene_symbol</th>\n",
       "      <th>fasta</th>\n",
       "    </tr>\n",
       "  </thead>\n",
       "  <tbody>\n",
       "    <tr>\n",
       "      <th>0</th>\n",
       "      <td>3R</td>\n",
       "      <td>6820000</td>\n",
       "      <td>6825298</td>\n",
       "      <td>7SLRNA-CR32864</td>\n",
       "      <td>/mnt/c/Users/ennas/Desktop/ML_genomics/Project...</td>\n",
       "    </tr>\n",
       "    <tr>\n",
       "      <th>1</th>\n",
       "      <td>3R</td>\n",
       "      <td>16804714</td>\n",
       "      <td>16832549</td>\n",
       "      <td>abd-A</td>\n",
       "      <td>/mnt/c/Users/ennas/Desktop/ML_genomics/Project...</td>\n",
       "    </tr>\n",
       "    <tr>\n",
       "      <th>2</th>\n",
       "      <td>3R</td>\n",
       "      <td>16924712</td>\n",
       "      <td>16974736</td>\n",
       "      <td>Abd-B</td>\n",
       "      <td>/mnt/c/Users/ennas/Desktop/ML_genomics/Project...</td>\n",
       "    </tr>\n",
       "    <tr>\n",
       "      <th>3</th>\n",
       "      <td>2L</td>\n",
       "      <td>375612</td>\n",
       "      <td>389939</td>\n",
       "      <td>al</td>\n",
       "      <td>/mnt/c/Users/ennas/Desktop/ML_genomics/Project...</td>\n",
       "    </tr>\n",
       "    <tr>\n",
       "      <th>4</th>\n",
       "      <td>3R</td>\n",
       "      <td>6760093</td>\n",
       "      <td>6767761</td>\n",
       "      <td>Ama</td>\n",
       "      <td>/mnt/c/Users/ennas/Desktop/ML_genomics/Project...</td>\n",
       "    </tr>\n",
       "  </tbody>\n",
       "</table>\n",
       "</div>"
      ],
      "text/plain": [
       "  chrom     start       end     gene_symbol  \\\n",
       "0    3R   6820000   6825298  7SLRNA-CR32864   \n",
       "1    3R  16804714  16832549           abd-A   \n",
       "2    3R  16924712  16974736           Abd-B   \n",
       "3    2L    375612    389939              al   \n",
       "4    3R   6760093   6767761             Ama   \n",
       "\n",
       "                                               fasta  \n",
       "0  /mnt/c/Users/ennas/Desktop/ML_genomics/Project...  \n",
       "1  /mnt/c/Users/ennas/Desktop/ML_genomics/Project...  \n",
       "2  /mnt/c/Users/ennas/Desktop/ML_genomics/Project...  \n",
       "3  /mnt/c/Users/ennas/Desktop/ML_genomics/Project...  \n",
       "4  /mnt/c/Users/ennas/Desktop/ML_genomics/Project...  "
      ]
     },
     "execution_count": 23,
     "metadata": {},
     "output_type": "execute_result"
    }
   ],
   "source": [
    "# get input file for get_raw_motif_scores_pwmenrich.R\n",
    "gene_regions_input = pd.read_csv('data/meta/pcg_targets_regions.bed', sep='\\t', header=None, names=['chrom', 'start', 'end', 'gene_symbol'])\n",
    "\n",
    "\n",
    "gene_regions_input['fasta'] = wdir + 'data/raw/seq_ORESAM/fasta_per_gene/' + \\\n",
    "                             gene_regions_input.gene_symbol + '_' + gene_regions_input.chrom + '_' + \\\n",
    "                             gene_regions_input.astype(str).start + '_' + gene_regions_input.astype(str).end + '.fas'\n",
    "gene_regions_input.head()"
   ]
  },
  {
   "cell_type": "code",
   "execution_count": 18,
   "metadata": {},
   "outputs": [
    {
     "data": {
      "text/plain": [
       "[]"
      ]
     },
     "execution_count": 18,
     "metadata": {},
     "output_type": "execute_result"
    }
   ],
   "source": [
    "# flag fasta files with lines containing only missing data ('N's) for one or more lines to remove from pcg_regions_input \n",
    "# (since PWMEnrich cannot handle those)\n",
    "flagged_fas = []\n",
    "\n",
    "for fas in gene_regions_input.fasta:\n",
    "    with open(fas, 'r') as file:\n",
    "        contains_only_Ns = any(all(char == 'N' for char in line.strip()) for line in file)\n",
    "        if contains_only_Ns:\n",
    "            flagged_fas.append(fas)\n",
    "flagged_fas\n"
   ]
  },
  {
   "cell_type": "code",
   "execution_count": 19,
   "metadata": {},
   "outputs": [
    {
     "data": {
      "text/html": [
       "<div>\n",
       "<style scoped>\n",
       "    .dataframe tbody tr th:only-of-type {\n",
       "        vertical-align: middle;\n",
       "    }\n",
       "\n",
       "    .dataframe tbody tr th {\n",
       "        vertical-align: top;\n",
       "    }\n",
       "\n",
       "    .dataframe thead th {\n",
       "        text-align: right;\n",
       "    }\n",
       "</style>\n",
       "<table border=\"1\" class=\"dataframe\">\n",
       "  <thead>\n",
       "    <tr style=\"text-align: right;\">\n",
       "      <th></th>\n",
       "      <th>chrom</th>\n",
       "      <th>start</th>\n",
       "      <th>end</th>\n",
       "      <th>gene_symbol</th>\n",
       "      <th>fasta</th>\n",
       "    </tr>\n",
       "  </thead>\n",
       "  <tbody>\n",
       "    <tr>\n",
       "      <th>0</th>\n",
       "      <td>3R</td>\n",
       "      <td>6820000</td>\n",
       "      <td>6825298</td>\n",
       "      <td>7SLRNA-CR32864</td>\n",
       "      <td>/mnt/c/Users/ennas/Desktop/ML_genomics/Project...</td>\n",
       "    </tr>\n",
       "    <tr>\n",
       "      <th>1</th>\n",
       "      <td>3R</td>\n",
       "      <td>16804714</td>\n",
       "      <td>16832549</td>\n",
       "      <td>abd-A</td>\n",
       "      <td>/mnt/c/Users/ennas/Desktop/ML_genomics/Project...</td>\n",
       "    </tr>\n",
       "    <tr>\n",
       "      <th>2</th>\n",
       "      <td>3R</td>\n",
       "      <td>16924712</td>\n",
       "      <td>16974736</td>\n",
       "      <td>Abd-B</td>\n",
       "      <td>/mnt/c/Users/ennas/Desktop/ML_genomics/Project...</td>\n",
       "    </tr>\n",
       "    <tr>\n",
       "      <th>3</th>\n",
       "      <td>2L</td>\n",
       "      <td>375612</td>\n",
       "      <td>389939</td>\n",
       "      <td>al</td>\n",
       "      <td>/mnt/c/Users/ennas/Desktop/ML_genomics/Project...</td>\n",
       "    </tr>\n",
       "    <tr>\n",
       "      <th>4</th>\n",
       "      <td>3R</td>\n",
       "      <td>6760093</td>\n",
       "      <td>6767761</td>\n",
       "      <td>Ama</td>\n",
       "      <td>/mnt/c/Users/ennas/Desktop/ML_genomics/Project...</td>\n",
       "    </tr>\n",
       "  </tbody>\n",
       "</table>\n",
       "</div>"
      ],
      "text/plain": [
       "  chrom     start       end     gene_symbol  \\\n",
       "0    3R   6820000   6825298  7SLRNA-CR32864   \n",
       "1    3R  16804714  16832549           abd-A   \n",
       "2    3R  16924712  16974736           Abd-B   \n",
       "3    2L    375612    389939              al   \n",
       "4    3R   6760093   6767761             Ama   \n",
       "\n",
       "                                               fasta  \n",
       "0  /mnt/c/Users/ennas/Desktop/ML_genomics/Project...  \n",
       "1  /mnt/c/Users/ennas/Desktop/ML_genomics/Project...  \n",
       "2  /mnt/c/Users/ennas/Desktop/ML_genomics/Project...  \n",
       "3  /mnt/c/Users/ennas/Desktop/ML_genomics/Project...  \n",
       "4  /mnt/c/Users/ennas/Desktop/ML_genomics/Project...  "
      ]
     },
     "execution_count": 19,
     "metadata": {},
     "output_type": "execute_result"
    }
   ],
   "source": [
    "# remove flagged fasta from gene_regions_input \n",
    "gene_regions_input = gene_regions_input[~gene_regions_input.fasta.isin(flagged_fas)]\n",
    "# save as .csv\n",
    "gene_regions_input.to_csv('data/raw/seq_ORESAM/ORESAM_pwmenrich_input.csv')\n",
    "                            \n",
    "gene_regions_input.head()"
   ]
  },
  {
   "cell_type": "code",
   "execution_count": null,
   "metadata": {
    "vscode": {
     "languageId": "shellscript"
    }
   },
   "outputs": [],
   "source": [
    "%%bash \n",
    "\n",
    "# calculate raw motif scores in gene regions \n",
    "# (note: input file contains genes and paths to corresponding fasta files,\n",
    "# DSP1 motif needs to be provided and stored in 'data/meta/Dsp1.jaspar', if stored somewhere else, change dir source code line 94)\n",
    "\n",
    "Rscript scripts/get_raw_motif_scores_pwmenrich.R --input data/raw/seq/ORESAM_pwmenrich_input.csv \\\n",
    "                                                 --output data/interim/ORESAM_TSE_pwmenrich_output.csv \\\n",
    "                                                 --n_group1 1 \\\n",
    "                                                 --cores 6"
   ]
  },
  {
   "cell_type": "markdown",
   "metadata": {},
   "source": [
    "### 1.2 Expression Data"
   ]
  },
  {
   "cell_type": "markdown",
   "metadata": {},
   "source": [
    "Expression data for the lines ORE and SAM (female flies reared at 13°C or 29°C with 3 biological replicates for each temperature line combination) was retrieved from NCBI Sequence Read Archive with accession numbers SRP041398 (*https://doi.org/10.1371/journal.pgen.1004883*)."
   ]
  },
  {
   "cell_type": "code",
   "execution_count": null,
   "metadata": {
    "vscode": {
     "languageId": "shellscript"
    }
   },
   "outputs": [],
   "source": [
    "%%bash \n",
    "\n",
    "# download sequence data\n",
    "\n",
    "#mkdir data/raw/expr\n",
    "cd data/raw/expr_ORESAM\n",
    "\n",
    "# NCBI SRA - SRR accession numbers \n",
    "srr_accessions=(\"SRR1259381\" \"SRR1259382\" \"SRR1259383\" \"SRR1259384\" \"SRR1259385\" \"SRR1259386\" \n",
    "                \"SRR1259399\" \"SRR1259400\" \"SRR1259401\" \"SRR1259402\" \"SRR1259403\" \"SRR1259404\"\n",
    "                \"SRR1259405\" \"SRR1259406\" \"SRR1259407\" \"SRR1259408\" \"SRR1259409\" \"SRR1259410\"\n",
    "                \"SRR1259423\" \"SRR1259424\" \"SRR1259425\" \"SRR1259426\" \"SRR1259427\" \"SRR1259428\"\n",
    "                ) \n",
    "\n",
    "\n",
    "# download each SRR accession\n",
    "for srr in \"${srr_accessions[@]}\"; do\n",
    "  echo \"$srr will be downloaded.\"\n",
    "  fasterq-dump \"$srr\" --split-files -O /data/raw/expr_ORESAM # --split-files for paired-end data\n",
    "done\n"
   ]
  },
  {
   "cell_type": "markdown",
   "metadata": {},
   "source": [
    "Expression data for each sample was sequenced in two runs. Fastq files from both runs are combined for each sample using ***merge_fastq.sh***:"
   ]
  },
  {
   "cell_type": "code",
   "execution_count": null,
   "metadata": {
    "vscode": {
     "languageId": "shellscript"
    }
   },
   "outputs": [],
   "source": [
    "%%bash\n",
    "\n",
    "# merge fastq files from both runs for each sample\n",
    "./scripts/merge_fastq.sh -i data/meta/Chen2015_t13_t29_fastq.csv \\\n",
    "                         -d data/raw/expr_ORESAM"
   ]
  },
  {
   "cell_type": "markdown",
   "metadata": {},
   "source": [
    "Raw reads are mapped to the *Drosophila melanogaster* reference genome (FlyBase Release 6.48, *https://doi.org/10.1093/genetics/iyac035*) with STAR, after which gene count tables are built (using ***rnaseq_map_count.sh***):"
   ]
  },
  {
   "cell_type": "code",
   "execution_count": null,
   "metadata": {
    "vscode": {
     "languageId": "shellscript"
    }
   },
   "outputs": [],
   "source": [
    "%%bash \n",
    "\n",
    "# map reads and get gene count tables \n",
    "\n",
    "./scripts/rnaseq_map_count.sh \\\n",
    "        -i /mnt/c/Users/ennas/Desktop/ML_genomics/Project1_PcG/data/raw/expr_ORESAM/ \\\n",
    "        -r /mnt/c/Users/ennas/Desktop/ML_genomics/Project1_PcG/data/meta/dmel-all-chromosome-r6.48.fasta \\\n",
    "        -g /mnt/c/Users/ennas/Desktop/ML_genomics/Project1_PcG/data/meta/dmel-all-r6.48.gtf \\\n",
    "        -t 6"
   ]
  },
  {
   "cell_type": "markdown",
   "metadata": {},
   "source": [
    "Resulting gene count tables serve as input for the gene expression analysis using edgeR a implemented in the Rscript ***get_expr_edger*** :"
   ]
  },
  {
   "cell_type": "code",
   "execution_count": 5,
   "metadata": {
    "vscode": {
     "languageId": "shellscript"
    }
   },
   "outputs": [
    {
     "name": "stderr",
     "output_type": "stream",
     "text": [
      "Loading required package: limma\n"
     ]
    },
    {
     "name": "stdout",
     "output_type": "stream",
     "text": [
      "Input: data/raw/expr_ORESAM/gene_counts.csv \n",
      "Sample Info: data/meta/ORESAM_edger_sample_info.csv \n"
     ]
    }
   ],
   "source": [
    "%%bash \n",
    "\n",
    "# get expression results using R script get_expr_edger.R\n",
    "\n",
    "Rscript scripts/get_expr_edger.R -i data/raw/expr_ORESAM/gene_counts.csv \\\n",
    "                                 -s data/meta/ORESAM_edger_sample_info.csv \\\n",
    "                                 -o data/interim/ \\\n",
    "                                 -a 5 \\\n",
    "                                 -c \"ORE_t13 - ORE_t29, SAM_t13 - SAM_t29\"\n"
   ]
  },
  {
   "cell_type": "markdown",
   "metadata": {},
   "source": [
    "### 1.3 Build Features"
   ]
  },
  {
   "cell_type": "markdown",
   "metadata": {},
   "source": [
    "Get feature-target dataframe using ***get_features.py***:\n"
   ]
  },
  {
   "cell_type": "code",
   "execution_count": 6,
   "metadata": {},
   "outputs": [
    {
     "name": "stdout",
     "output_type": "stream",
     "text": [
      "Feature dataframe including motif scores and expression data, plus target vector will be built, as well as a baseline predictor dataset (ie., mean gene activity plus target vector).\n"
     ]
    }
   ],
   "source": [
    "# build features - FRZI data (using get_features.py - data available in the 'data' directory)\n",
    "%run scripts/get_features.py \\\n",
    "    --motif_scores data/interim/ORESAM_TSE_pwmenrich_output.csv \\\n",
    "    --motif_info data/meta/TFBS_motif_info.csv \\\n",
    "    --annotation data/meta/pcg_targets_annotations.csv \\\n",
    "    --n_groups 2 \\\n",
    "    --expression data/interim/edger_ORE_t13_vs_ORE_t29.csv  data/interim/edger_SAM_t13_vs_SAM_t29.csv \\\n",
    "    --output data/processed/ORESAM_features_target.csv \\\n",
    "    --output2 data/processed/ORESAM_baseline.csv"
   ]
  },
  {
   "cell_type": "markdown",
   "metadata": {},
   "source": [
    "## 2. Predict"
   ]
  },
  {
   "cell_type": "markdown",
   "metadata": {},
   "source": [
    "Evaluate performance of trained, optimized XGB model using the aim dataset with ***predict.py***:"
   ]
  },
  {
   "cell_type": "code",
   "execution_count": 3,
   "metadata": {},
   "outputs": [
    {
     "name": "stdout",
     "output_type": "stream",
     "text": [
      "auPR: 0.8813666166145403\n",
      "auROC: 0.7706201844132878\n"
     ]
    }
   ],
   "source": [
    "%run scripts/predict.py \\\n",
    "    --input data/processed/ORESAM_features_target.csv \\\n",
    "    --features data/meta/xgb_selected_features.csv \\\n",
    "    --model models/xgb_opt_trained.joblib \\\n",
    "    --output data/processed/ORE_SAM_pred.csv \\\n",
    "    --target 'TSE'"
   ]
  },
  {
   "cell_type": "markdown",
   "metadata": {},
   "source": [
    "Compare performance of model on aim set (ORESAM) to that on the test set (FRZI):"
   ]
  },
  {
   "cell_type": "code",
   "execution_count": 4,
   "metadata": {},
   "outputs": [],
   "source": [
    "# function to plot model performance scores auPR and auROC\n",
    "\n",
    "def plot_evaluation_metrics(model, features, target):\n",
    "    '''\n",
    "    Plots evaluation metrics for a classification model, including the Precision-Recall Curve and ROC Curve, \n",
    "    along with their respective areas under the curve (auPR and auROC).\n",
    "\n",
    "    Args:\n",
    "        model: A trained classifier that supports `predict_proba` and `predict` methods for probability \n",
    "               and class predictions, respectively. \n",
    "        features (DataFrame): The feature set used for prediction. \n",
    "        target (Series): The true target labels corresponding to the feature set. \n",
    "                         Must be binary (0s and 1s) for the ROC and Precision-Recall Curves.\n",
    "\n",
    "    Returns:\n",
    "        fig (object): A matplotlib Figure object containing the Precision-Recall Curve and ROC Curve plots as subplots. \n",
    "    '''\n",
    "\n",
    "    # get predictions and prediction probabilities\n",
    "    pred_probs = model.predict_proba(features)[:, 1]\n",
    "    pred = model.predict(features)\n",
    "    \n",
    "    # calculate Precision-Recall Curve\n",
    "    precision, recall, _ = precision_recall_curve(target, pred_probs)\n",
    "    auPR = auc(recall, precision)\n",
    "\n",
    "    # calculate ROC Curve\n",
    "    fpr, tpr, _ = roc_curve(target, pred_probs)\n",
    "    auROC = roc_auc_score(target, pred)\n",
    "    \n",
    "    # plot Precision-Recall Curve\n",
    "    fig = plt.figure(figsize=(6, 3))\n",
    "    plt.subplot(1, 2, 1)\n",
    "    plt.plot(recall, precision, label=f'auPR = {auPR:.2f}')\n",
    "    plt.xlabel('Recall')\n",
    "    plt.ylabel('Precision')\n",
    "    plt.title('Precision-Recall Curve')\n",
    "    plt.legend(loc='best')\n",
    "    \n",
    "    # plot ROC Curve\n",
    "    plt.subplot(1, 2, 2)\n",
    "    plt.plot(fpr, tpr, label=f'auROC = {auROC:.2f}')\n",
    "    plt.plot([0, 1], [0, 1], 'k--')  # Dashed diagonal\n",
    "    plt.xlabel('False Positive Rate')\n",
    "    plt.ylabel('True Positive Rate')\n",
    "    plt.title('ROC Curve')\n",
    "    plt.legend(loc='best')\n",
    "    plt.tight_layout()\n",
    "    \n",
    "    return fig\n"
   ]
  },
  {
   "cell_type": "code",
   "execution_count": 5,
   "metadata": {},
   "outputs": [
    {
     "data": {
      "image/png": "[encoded data removed]",
      "text/plain": [
       "<Figure size 600x300 with 2 Axes>"
      ]
     },
     "metadata": {},
     "output_type": "display_data"
    }
   ],
   "source": [
    "# performance scores based on aim set (ORESAM)\n",
    "model = joblib.load('models/xgb_opt_trained.joblib')\n",
    "sel_features = pd.read_csv('data/meta/xgb_selected_features.csv').iloc[:, 0].tolist()\n",
    "\n",
    "data_aim = pd.read_csv('/mnt/c/Users/ennas/Desktop/ML_genomics/project_1_pcg/ORESAM_features_target.csv')\n",
    "features_aim = data_aim[sel_features]\n",
    "target_aim = data_aim['TSE']\n",
    "\n",
    "plot_ORESAM = plot_evaluation_metrics(model, features_aim, target_aim)\n",
    "plot_ORESAM.savefig('figures/ORESAM_aimset_performance.svg', bbox_inches='tight')\n"
   ]
  },
  {
   "cell_type": "code",
   "execution_count": 6,
   "metadata": {},
   "outputs": [
    {
     "data": {
      "image/png": "[encoded data removed]",
      "text/plain": [
       "<Figure size 600x300 with 2 Axes>"
      ]
     },
     "metadata": {},
     "output_type": "display_data"
    }
   ],
   "source": [
    "# performance scores based on test set (FRZI)\n",
    "data = pd.read_csv('data/processed/FRZI_features_target.csv', index_col=0)\n",
    "features_train, features_test, target_train, target_test = train_test_split(data.drop('TSE', axis=1), data.loc[:, 'TSE'], \n",
    "                                                                            test_size=0.1, random_state=42)\n",
    "\n",
    "plot_FRZI = plot_evaluation_metrics(model, features_test[sel_features], target_test)\n",
    "plot_FRZI.savefig('figures/FRZI_testset_performance.svg', bbox_inches='tight')\n"
   ]
  },
  {
   "cell_type": "code",
   "execution_count": 30,
   "metadata": {},
   "outputs": [
    {
     "name": "stdout",
     "output_type": "stream",
     "text": [
      "aimset (ORESAM):\n",
      "              precision    recall  f1-score   support\n",
      "\n",
      "           0       0.74      0.68      0.71       406\n",
      "           1       0.82      0.86      0.84       702\n",
      "\n",
      "    accuracy                           0.79      1108\n",
      "   macro avg       0.78      0.77      0.77      1108\n",
      "weighted avg       0.79      0.79      0.79      1108\n",
      "\n",
      "\n",
      "testset (FRZI):\n",
      "              precision    recall  f1-score   support\n",
      "\n",
      "           0       0.92      0.81      0.86        73\n",
      "           1       0.84      0.93      0.88        76\n",
      "\n",
      "    accuracy                           0.87       149\n",
      "   macro avg       0.88      0.87      0.87       149\n",
      "weighted avg       0.88      0.87      0.87       149\n",
      "\n"
     ]
    }
   ],
   "source": [
    "# classification reports\n",
    "print('aimset (ORESAM):')\n",
    "print(classification_report(target_aim, model.predict(features_aim[sel_features])))\n",
    "print()\n",
    "print('testset (FRZI):')\n",
    "print(classification_report(target_test, model.predict(features_test[sel_features])))"
   ]
  },
  {
   "cell_type": "markdown",
   "metadata": {},
   "source": [
    "The model maintains strong performance for positive class predictions across both the aimset and test set, yet it shows a slight decrease in accurately identifying negative cases in the aimset, highlighted by reduced precision and recall for the negative class. This results in a higher number of both false positives and false negatives, particularly the former. The disparity in performance, especially the increased false positive rate on the aimset, is reflected in the differences in auPR and auROC scores, since auROC is sensitive to the false positive rate, which is affected by the number of true negatives. \n",
    "\n",
    "From a biological perspective, the observed differences in accurately identifying the negative class could suggest variations in the underlying factors that contribute to non-overexpression at lower temperatures between the FR/ZI and ORE/SAM fly lines. These differences may influence the model's ability to generalize its predictions across different biological contexts.\n",
    "\n",
    "Overall, the model shows strong performance on both datasets, indicating its effectiveness in handling different biological contexts.\n"
   ]
  },
  {
   "cell_type": "markdown",
   "metadata": {},
   "source": [
    " ---\n",
    "###### The versions of the software used in this notebook were as follows:\n",
    "\n",
    "###### joblib: 1.3.2 - matplotlib: 3.8.3 - numpy: 1.26.4 - pandas: 2.2.0 - python: 3.9.16 - scikit-learn: 1.4.1.post1 - xgboost: 2.0.3\n",
    "\n",
    "###### bcftools: 1.7-2 - bedtools: 2.26.0 - bwa: 0.7.17 - gatk: 4.5.0.0 - mafft: 7.310-1 - pigz: 2.4-1 - samtools: 1.7-1 - sratoolkit: 3.0.10 - STAR: 2.6.1d - subread: 1.6.0 - trim_galore: 0.6.10\n",
    "\n",
    "###### edgeR: 4.0.14 - optparse: 1.7.3 - PWMEnrich.Dmelanogaster.background_4.36.0 - PWMEnrich_4.38.0 - R: 4.3.2\n"
   ]
  }
 ],
 "metadata": {
  "kernelspec": {
   "display_name": "ml_env2",
   "language": "python",
   "name": "ml_env2"
  },
  "language_info": {
   "codemirror_mode": {
    "name": "ipython",
    "version": 3
   },
   "file_extension": ".py",
   "mimetype": "text/x-python",
   "name": "python",
   "nbconvert_exporter": "python",
   "pygments_lexer": "ipython3",
   "version": "3.9.16"
  }
 },
 "nbformat": 4,
 "nbformat_minor": 2
}
